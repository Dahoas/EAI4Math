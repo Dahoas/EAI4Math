{
 "cells": [
  {
   "cell_type": "code",
   "execution_count": 13,
   "metadata": {},
   "outputs": [],
   "source": [
    "# imports\n",
    "from utils import *"
   ]
  },
  {
   "cell_type": "code",
   "execution_count": null,
   "metadata": {},
   "outputs": [],
   "source": [
    "import json\n",
    "\n",
    "dataset_path = \"data/lean_workbook.json\"\n",
    "with open(dataset_path, \"r\") as f:\n",
    "    dataset = json.load(f)\n",
    "print(type(dataset))\n",
    "print(len(dataset))\n",
    "print(dataset[0].keys())\n",
    "print(dataset[0][\"proof\"])\n",
    "proof_problems = [sample for sample in dataset if len(sample[\"proof\"]) > 0]\n",
    "print(len(proof_problems))"
   ]
  },
  {
   "cell_type": "code",
   "execution_count": 5,
   "metadata": {},
   "outputs": [
    {
     "name": "stdout",
     "output_type": "stream",
     "text": [
      "{\n",
      "  \"natural_language_statement\": \"Let $a,b,c$ be positive real numbers .Prove that $ \\\\frac{b+c}{\\\\sqrt{a^2 + 8bc}} + \\\\frac{c+a}{\\\\sqrt{b^2 + 8ca}} + \\\\frac{a+b}{\\\\sqrt{c^2 + 8ab}} \\\\geq 2. $\",\n",
      "  \"answer\": \"2\",\n",
      "  \"tags\": [\n",
      "    \"inequality\"\n",
      "  ],\n",
      "  \"formal_statement\": \"theorem lean_workbook_0 (a b c : \\u211d) (ha : 0 < a) (hb : 0 < b) (hc : 0 < c) : (b + c) / Real.sqrt (a ^ 2 + 8 * b * c) + (c + a) / Real.sqrt (b ^ 2 + 8 * c * a) + (a + b) / Real.sqrt (c ^ 2 + 8 * a * b) \\u2265 2  :=  by sorry\",\n",
      "  \"split\": \"lean_workbook\",\n",
      "  \"proof\": []\n",
      "}\n",
      "{\n",
      "  \"natural_language_statement\": \"Prove that $x-1 \\\\geq \\\\ln x$ for $x>0$.\",\n",
      "  \"answer\": \"\",\n",
      "  \"tags\": [\n",
      "    \"inequality\",\n",
      "    \"logarithm\",\n",
      "    \"calculus\"\n",
      "  ],\n",
      "  \"formal_statement\": \"theorem lean_workbook_26 (x : \\u211d) (hx : 0 < x) : x - 1 \\u2265 Real.log x  :=  by sorry\",\n",
      "  \"split\": \"lean_workbook\",\n",
      "  \"proof\": [\n",
      "    \"have h1 : 0 \\u2264 (x - 1)^2 := sq_nonneg (x - 1)\\nnlinarith [log_le_sub_one_of_pos hx]\",\n",
      "    \"nlinarith [log_le_sub_one_of_pos hx]\",\n",
      "    \"rw [ge_iff_le]\\nsimpa using log_le_sub_one_of_pos hx\",\n",
      "    \"have := log_le_sub_one_of_pos hx\\nlinarith [this]\",\n",
      "    \"nlinarith [Real.log_le_sub_one_of_pos (by linarith : 0 < x)]\",\n",
      "    \"nlinarith [log_le_sub_one_of_pos (by assumption : 0 < x)]\",\n",
      "    \"have := log_le_sub_one_of_pos hx\\nlinarith\",\n",
      "    \"nlinarith [Real.log_le_sub_one_of_pos hx]\",\n",
      "    \"have h1 : 0 \\u2264 (x - 1) ^ 2 := sq_nonneg (x - 1)\\nrw [pow_two] at h1\\nnlinarith [log_le_sub_one_of_pos hx]\",\n",
      "    \"linarith [log_le_sub_one_of_pos hx]\",\n",
      "    \"rw [ge_iff_le]\\nexact log_le_sub_one_of_pos hx\",\n",
      "    \"rw [ge_iff_le]\\nnlinarith [log_le_sub_one_of_pos hx]\",\n",
      "    \"linarith only [log_le_sub_one_of_pos hx]\",\n",
      "    \"have h1 : 0 \\u2264 (x - 1) ^ 2 := sq_nonneg (x - 1)\\nnlinarith [Real.log_le_sub_one_of_pos hx]\",\n",
      "    \"nlinarith [Real.log_le_sub_one_of_pos (by positivity : 0 < x)]\"\n",
      "  ]\n",
      "}\n"
     ]
    }
   ],
   "source": [
    "print(json.dumps(dataset[0], indent=2))\n",
    "print(json.dumps(proof_problems[1], indent=2))"
   ]
  },
  {
   "cell_type": "code",
   "execution_count": null,
   "metadata": {},
   "outputs": [],
   "source": [
    "from datasets import load_dataset\n",
    "dataset = load_dataest(\"hoskinson-center/proofnet\")  # lean4 version of proofnet"
   ]
  },
  {
   "cell_type": "code",
   "execution_count": 1,
   "metadata": {},
   "outputs": [
    {
     "name": "stdout",
     "output_type": "stream",
     "text": [
      "Dataset({\n",
      "    features: ['problem', 'level', 'type', 'solution'],\n",
      "    num_rows: 7500\n",
      "})\n",
      "<class 'list'>\n",
      "{'problem': 'Let \\\\[f(x) = \\\\left\\\\{\\n\\\\begin{array}{cl} ax+3, &\\\\text{ if }x>2, \\\\\\\\\\nx-5 &\\\\text{ if } -2 \\\\le x \\\\le 2, \\\\\\\\\\n2x-b &\\\\text{ if } x <-2.\\n\\\\end{array}\\n\\\\right.\\\\]Find $a+b$ if the piecewise function is continuous (which means that its graph can be drawn without lifting your pencil from the paper).', 'level': 'Level 5', 'type': 'Algebra', 'solution': 'For the piecewise function to be continuous, the cases must \"meet\" at $2$ and $-2$. For example, $ax+3$ and $x-5$ must be equal when $x=2$. This implies $a(2)+3=2-5$, which we solve to get $2a=-6 \\\\Rightarrow a=-3$. Similarly, $x-5$ and $2x-b$ must be equal when $x=-2$. Substituting, we get $-2-5=2(-2)-b$, which implies $b=3$. So $a+b=-3+3=\\\\boxed{0}$.'}\n"
     ]
    }
   ],
   "source": [
    "# download MATH\n",
    "from datasets import load_dataset\n",
    "dataset = load_dataset(\"hendrycks/competition_math\")[\"train\"]\n",
    "print(dataset)\n",
    "print(type(list(dataset)))\n",
    "print(list(dataset)[0])"
   ]
  },
  {
   "cell_type": "code",
   "execution_count": 1,
   "metadata": {},
   "outputs": [
    {
     "name": "stdout",
     "output_type": "stream",
     "text": [
      "Found 7500 samples\n",
      "Extracted 4505 lemmas\n"
     ]
    }
   ],
   "source": [
    "from processing import build_library_from_outputs\n",
    "output_path = \"outputs/qwen_MATH_lemma_extract.jsonl\"\n",
    "lemmas = build_library_from_outputs(output_path)"
   ]
  },
  {
   "cell_type": "code",
   "execution_count": 2,
   "metadata": {},
   "outputs": [],
   "source": [
    "from utils import dump_jsonl\n",
    "from dataclasses import asdict\n",
    "save_path = \"libraries/qwen_lemmas.jsonl\"\n",
    "dump_jsonl([asdict(lemma) for lemma in lemmas], save_path)"
   ]
  },
  {
   "cell_type": "code",
   "execution_count": 7,
   "metadata": {},
   "outputs": [
    {
     "name": "stdout",
     "output_type": "stream",
     "text": [
      "Found 1552 samples\n",
      "Found 6795 requests\n"
     ]
    }
   ],
   "source": [
    "# extract lemma requests\n",
    "from utils import dump_jsonl\n",
    "from processing import extract_relevant_lemmas_from_outputs\n",
    "outputs_path = \"outputs/test_lemma_descriptions.jsonl\"\n",
    "samples = extract_relevant_lemmas_from_outputs(outputs_path)\n",
    "samples = [s for s in samples if s[\"lemma_requests\"] is not None and len(s[\"extracted_lemma_requests\"]) > 0]\n",
    "dump_jsonl(samples, \"outputs/test_extracted_lemma_descriptions.jsonl\")"
   ]
  },
  {
   "cell_type": "code",
   "execution_count": 6,
   "metadata": {},
   "outputs": [],
   "source": [
    "# pair samples by computing pairwise cosine similarities between \n",
    "from library import compute_batched_similarity\n",
    "from utils import load_jsonl\n",
    "import torch\n",
    "sources = load_jsonl(\"outputs/test_extracted_lemma_descriptions_embeddings.jsonl\")\n",
    "targets = load_jsonl(\"libraries/qwen_lemmas_embeddings.jsonl\")"
   ]
  },
  {
   "cell_type": "code",
   "execution_count": 3,
   "metadata": {},
   "outputs": [
    {
     "name": "stdout",
     "output_type": "stream",
     "text": [
      "dict_keys(['problem', 'level', 'type', 'solution', 'lemma_requests', 'extracted_lemma_requests', 'embeddings'])\n",
      "['\\nA rational function \\\\( y = \\\\frac{P(x)}{Q(x)} \\\\) has vertical asymptotes at the values of \\\\( x \\\\) that make the denominator \\\\( Q(x) \\\\) zero, provided those values are not also roots of the numerator \\\\( P(x) \\\\).\\n\\n', '\\nTo find the vertical asymptotes of a rational function, we need to solve the equation \\\\( Q(x) = 0 \\\\) for \\\\( x \\\\).\\n\\n', '\\nThe quadratic equation \\\\( ax^2 + bx + c = 0 \\\\) can be factored or solved using the quadratic formula \\\\( x = \\\\frac{-b \\\\pm \\\\sqrt{b^2 - 4ac}}{2a} \\\\).\\n\\n', '\\nIf a quadratic polynomial \\\\( Q(x) \\\\) can be factored into linear factors, the solutions to \\\\( Q(x) = 0 \\\\) are the roots of these linear factors.\\n\\n', \"\\nFor the function \\\\( y = \\\\frac{2}{x^2 + x - 6} \\\\), the denominator \\\\( x^2 + x - 6 \\\\) can be factored, and the solutions to the factored equation will give the vertical asymptotes.\\n\\nNow, let's apply these lemmas to solve the problem:\\n\\n1. \"]\n",
      "1359\n",
      "4505\n"
     ]
    }
   ],
   "source": [
    "print(sources[0].keys())\n",
    "print(sources[0][\"extracted_lemma_requests\"])\n",
    "print(len(sources))\n",
    "print(len(targets))"
   ]
  },
  {
   "cell_type": "code",
   "execution_count": 4,
   "metadata": {},
   "outputs": [
    {
     "name": "stderr",
     "output_type": "stream",
     "text": [
      "100%|██████████| 151/151 [01:06<00:00,  2.28it/s]\n"
     ]
    }
   ],
   "source": [
    "sources_embeddings = torch.tensor([embedding for sample in sources for embedding in sample[\"embeddings\"]])\n",
    "targets_embeddings = torch.tensor([sample[\"embedding\"] for sample in targets])\n",
    "sims_dict = compute_batched_similarity(sources_embeddings, targets_embeddings, batch_size=128)"
   ]
  },
  {
   "cell_type": "code",
   "execution_count": 5,
   "metadata": {},
   "outputs": [
    {
     "name": "stdout",
     "output_type": "stream",
     "text": [
      "6795\n",
      "4505\n",
      "0.20641606\n",
      "0.26650327\n",
      "0.08968528\n",
      "0.5877541\n"
     ]
    }
   ],
   "source": [
    "print(len(sims_dict))\n",
    "print(len(list(sims_dict.values())[0]))\n",
    "sims = list(sims_dict.values())\n",
    "import numpy as np\n",
    "print(np.mean(sims[0]))\n",
    "avg_sims = [np.mean(sim) for sim in sims]\n",
    "max_sims = [np.max(sim) for sim in sims]\n",
    "print(np.mean(avg_sims))\n",
    "print(np.std(avg_sims))\n",
    "print(np.mean(max_sims))"
   ]
  },
  {
   "cell_type": "code",
   "execution_count": 14,
   "metadata": {},
   "outputs": [
    {
     "name": "stderr",
     "output_type": "stream",
     "text": [
      "  0%|          | 0/1359 [00:00<?, ?it/s]"
     ]
    },
    {
     "name": "stderr",
     "output_type": "stream",
     "text": [
      "100%|██████████| 1359/1359 [01:35<00:00, 14.28it/s]\n"
     ]
    }
   ],
   "source": [
    "# find top three most similar lemmas to proof descriptions\n",
    "from tqdm import tqdm\n",
    "cnt = 0\n",
    "for source in tqdm(sources):\n",
    "    # retrieve most similar lemma for each source description\n",
    "    source_sims = np.array([sims_dict[cnt+i] for i in range(len(source[\"extracted_lemma_requests\"]))])\n",
    "    max_source_sims = np.argmax(source_sims, axis=-1).flatten()\n",
    "    source[\"retrieved_lemmas\"] = [{\n",
    "                                    \"statement\": targets[ind][\"statement\"],\n",
    "                                    \"proof\": targets[ind][\"proof\"]\n",
    "                                  } for ind in max_source_sims]\n",
    "    cnt += len(source[\"extracted_lemma_requests\"])"
   ]
  },
  {
   "cell_type": "code",
   "execution_count": 15,
   "metadata": {},
   "outputs": [
    {
     "name": "stdout",
     "output_type": "stream",
     "text": [
      "How many vertical asymptotes does the graph of $y=\\frac{2}{x^2+x-6}$ have?\n",
      "[{'statement': 'A function will have a vertical asymptote where the denominator equals zero and the degree of that root is greater than the degree of the same root in the numerator.', 'proof': 'Consider a rational function \\\\( f(x) = \\\\frac{P(x)}{Q(x)} \\\\), where \\\\( P(x) \\\\) and \\\\( Q(x) \\\\) are polynomials. A vertical asymptote occurs at values of \\\\( x \\\\) where \\\\( Q(x) = 0 \\\\) and \\\\( P(x) \\\\neq 0 \\\\). This is because as \\\\( x \\\\) approaches these values, the denominator approaches zero while the numerator remains non-zero, causing the function to approach infinity or negative infinity.'}, {'statement': 'The vertical asymptote of a rational function \\\\( \\\\frac{P(x)}{Q(x)} \\\\) occurs where the denominator \\\\( Q(x) \\\\) is zero, provided \\\\( P(x) \\\\) is not also zero at that point.', 'proof': 'This follows directly from the definition of vertical asymptotes. As \\\\( x \\\\) approaches the roots of \\\\( Q(x) \\\\), the denominator approaches zero, causing the function to approach infinity if \\\\( P(x) \\\\) is non-zero at those points.'}, {'statement': 'For the quadratic equation \\\\(x^2 - 5x - \\\\frac{9}{4} = 0\\\\), the solutions are given by the quadratic formula: \\\\(x = \\\\frac{-b \\\\pm \\\\sqrt{b^2 - 4ac}}{2a}\\\\).', 'proof': 'Applying the quadratic formula \\\\(x = \\\\frac{-b \\\\pm \\\\sqrt{b^2 - 4ac}}{2a}\\\\) to the equation \\\\(x^2 - 5x - \\\\frac{9}{4} = 0\\\\), where \\\\(a = 1\\\\), \\\\(b = -5\\\\), and \\\\(c = -\\\\frac{9}{4}\\\\), we get:\\n\\\\[\\nx = \\\\frac{-(-5) \\\\pm \\\\sqrt{(-5)^2 - 4(1)(-\\\\frac{9}{4})}}{2(1)} = \\\\frac{5 \\\\pm \\\\sqrt{25 + 9}}{2} = \\\\frac{5 \\\\pm \\\\sqrt{34}}{2}.\\n\\\\]'}, {'statement': 'To solve a quadratic equation of the form \\\\( at^2 + bt + c = 0 \\\\), factor it into the product of two binomials.', 'proof': 'Given the quadratic equation:\\n\\\\[ 6t^2 + 7t - 20 = 0 \\\\]\\nFactor it:\\n\\\\[ (3t - 4)(2t + 5) = 0 \\\\]'}, {'statement': 'Given the vertical asymptotes and horizontal asymptote of a rational function, we can determine the coefficients of the polynomial in the denominator.', 'proof': 'Given vertical asymptotes at \\\\( x = -2 \\\\) and \\\\( x = 3 \\\\), and knowing the horizontal asymptote \\\\( y = \\\\frac{1}{A} \\\\), we can write the denominator as \\\\( Ax^2 + Bx + C = A(x + 2)(x - 3) \\\\).'}]\n",
      "5\n"
     ]
    }
   ],
   "source": [
    "print(sources[0][\"problem\"])\n",
    "print(sources[0][\"retrieved_lemmas\"])\n",
    "print(len(sources[0][\"retrieved_lemmas\"]))"
   ]
  },
  {
   "cell_type": "code",
   "execution_count": 22,
   "metadata": {},
   "outputs": [
    {
     "name": "stdout",
     "output_type": "stream",
     "text": [
      "[\n",
      "  {\n",
      "    \"statement\": \"A function will have a vertical asymptote where the denominator equals zero and the degree of that root is greater than the degree of the same root in the numerator.\",\n",
      "    \"proof\": \"Consider a rational function \\\\( f(x) = \\\\frac{P(x)}{Q(x)} \\\\), where \\\\( P(x) \\\\) and \\\\( Q(x) \\\\) are polynomials. A vertical asymptote occurs at values of \\\\( x \\\\) where \\\\( Q(x) = 0 \\\\) and \\\\( P(x) \\\\neq 0 \\\\). This is because as \\\\( x \\\\) approaches these values, the denominator approaches zero while the numerator remains non-zero, causing the function to approach infinity or negative infinity.\"\n",
      "  },\n",
      "  {\n",
      "    \"statement\": \"The vertical asymptote of a rational function \\\\( \\\\frac{P(x)}{Q(x)} \\\\) occurs where the denominator \\\\( Q(x) \\\\) is zero, provided \\\\( P(x) \\\\) is not also zero at that point.\",\n",
      "    \"proof\": \"This follows directly from the definition of vertical asymptotes. As \\\\( x \\\\) approaches the roots of \\\\( Q(x) \\\\), the denominator approaches zero, causing the function to approach infinity if \\\\( P(x) \\\\) is non-zero at those points.\"\n",
      "  },\n",
      "  {\n",
      "    \"statement\": \"For the quadratic equation \\\\(x^2 - 5x - \\\\frac{9}{4} = 0\\\\), the solutions are given by the quadratic formula: \\\\(x = \\\\frac{-b \\\\pm \\\\sqrt{b^2 - 4ac}}{2a}\\\\).\",\n",
      "    \"proof\": \"Applying the quadratic formula \\\\(x = \\\\frac{-b \\\\pm \\\\sqrt{b^2 - 4ac}}{2a}\\\\) to the equation \\\\(x^2 - 5x - \\\\frac{9}{4} = 0\\\\), where \\\\(a = 1\\\\), \\\\(b = -5\\\\), and \\\\(c = -\\\\frac{9}{4}\\\\), we get:\\n\\\\[\\nx = \\\\frac{-(-5) \\\\pm \\\\sqrt{(-5)^2 - 4(1)(-\\\\frac{9}{4})}}{2(1)} = \\\\frac{5 \\\\pm \\\\sqrt{25 + 9}}{2} = \\\\frac{5 \\\\pm \\\\sqrt{34}}{2}.\\n\\\\]\"\n",
      "  },\n",
      "  {\n",
      "    \"statement\": \"To solve a quadratic equation of the form \\\\( at^2 + bt + c = 0 \\\\), factor it into the product of two binomials.\",\n",
      "    \"proof\": \"Given the quadratic equation:\\n\\\\[ 6t^2 + 7t - 20 = 0 \\\\]\\nFactor it:\\n\\\\[ (3t - 4)(2t + 5) = 0 \\\\]\"\n",
      "  },\n",
      "  {\n",
      "    \"statement\": \"Given the vertical asymptotes and horizontal asymptote of a rational function, we can determine the coefficients of the polynomial in the denominator.\",\n",
      "    \"proof\": \"Given vertical asymptotes at \\\\( x = -2 \\\\) and \\\\( x = 3 \\\\), and knowing the horizontal asymptote \\\\( y = \\\\frac{1}{A} \\\\), we can write the denominator as \\\\( Ax^2 + Bx + C = A(x + 2)(x - 3) \\\\).\"\n",
      "  }\n",
      "]\n"
     ]
    }
   ],
   "source": [
    "import json\n",
    "for sample in sources:\n",
    "    sample[\"retrieved_lemmas_str\"] = json.dumps(sample[\"retrieved_lemmas\"], indent=2)\n",
    "    sample.pop(\"embeddings\")\n",
    "print(sources[0][\"retrieved_lemmas_str\"])"
   ]
  },
  {
   "cell_type": "code",
   "execution_count": 23,
   "metadata": {},
   "outputs": [],
   "source": [
    "from utils import dump_jsonl\n",
    "dump_jsonl(sources, \"inputs/MATH_test_retrieved_lemmas.jsonl\")"
   ]
  }
 ],
 "metadata": {
  "kernelspec": {
   "display_name": "Python 3",
   "language": "python",
   "name": "python3"
  },
  "language_info": {
   "codemirror_mode": {
    "name": "ipython",
    "version": 3
   },
   "file_extension": ".py",
   "mimetype": "text/x-python",
   "name": "python",
   "nbconvert_exporter": "python",
   "pygments_lexer": "ipython3",
   "version": "3.10.14"
  }
 },
 "nbformat": 4,
 "nbformat_minor": 2
}
