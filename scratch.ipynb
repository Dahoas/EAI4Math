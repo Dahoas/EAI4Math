{
 "cells": [
  {
   "cell_type": "code",
   "execution_count": 1,
   "metadata": {},
   "outputs": [
    {
     "name": "stdout",
     "output_type": "stream",
     "text": [
      "<class 'list'>\n",
      "140214\n",
      "dict_keys(['natural_language_statement', 'answer', 'tags', 'formal_statement', 'split', 'proof'])\n",
      "[]\n",
      "12823\n"
     ]
    }
   ],
   "source": [
    "import json\n",
    "\n",
    "dataset_path = \"data/lean_workbook.json\"\n",
    "with open(dataset_path, \"r\") as f:\n",
    "    dataset = json.load(f)\n",
    "print(type(dataset))\n",
    "print(len(dataset))\n",
    "print(dataset[0].keys())\n",
    "print(dataset[0][\"proof\"])\n",
    "proof_problems = [sample for sample in dataset if len(sample[\"proof\"]) > 0]\n",
    "print(len(proof_problems))"
   ]
  },
  {
   "cell_type": "code",
   "execution_count": 5,
   "metadata": {},
   "outputs": [
    {
     "name": "stdout",
     "output_type": "stream",
     "text": [
      "{\n",
      "  \"natural_language_statement\": \"Let $a,b,c$ be positive real numbers .Prove that $ \\\\frac{b+c}{\\\\sqrt{a^2 + 8bc}} + \\\\frac{c+a}{\\\\sqrt{b^2 + 8ca}} + \\\\frac{a+b}{\\\\sqrt{c^2 + 8ab}} \\\\geq 2. $\",\n",
      "  \"answer\": \"2\",\n",
      "  \"tags\": [\n",
      "    \"inequality\"\n",
      "  ],\n",
      "  \"formal_statement\": \"theorem lean_workbook_0 (a b c : \\u211d) (ha : 0 < a) (hb : 0 < b) (hc : 0 < c) : (b + c) / Real.sqrt (a ^ 2 + 8 * b * c) + (c + a) / Real.sqrt (b ^ 2 + 8 * c * a) + (a + b) / Real.sqrt (c ^ 2 + 8 * a * b) \\u2265 2  :=  by sorry\",\n",
      "  \"split\": \"lean_workbook\",\n",
      "  \"proof\": []\n",
      "}\n",
      "{\n",
      "  \"natural_language_statement\": \"Prove that $x-1 \\\\geq \\\\ln x$ for $x>0$.\",\n",
      "  \"answer\": \"\",\n",
      "  \"tags\": [\n",
      "    \"inequality\",\n",
      "    \"logarithm\",\n",
      "    \"calculus\"\n",
      "  ],\n",
      "  \"formal_statement\": \"theorem lean_workbook_26 (x : \\u211d) (hx : 0 < x) : x - 1 \\u2265 Real.log x  :=  by sorry\",\n",
      "  \"split\": \"lean_workbook\",\n",
      "  \"proof\": [\n",
      "    \"have h1 : 0 \\u2264 (x - 1)^2 := sq_nonneg (x - 1)\\nnlinarith [log_le_sub_one_of_pos hx]\",\n",
      "    \"nlinarith [log_le_sub_one_of_pos hx]\",\n",
      "    \"rw [ge_iff_le]\\nsimpa using log_le_sub_one_of_pos hx\",\n",
      "    \"have := log_le_sub_one_of_pos hx\\nlinarith [this]\",\n",
      "    \"nlinarith [Real.log_le_sub_one_of_pos (by linarith : 0 < x)]\",\n",
      "    \"nlinarith [log_le_sub_one_of_pos (by assumption : 0 < x)]\",\n",
      "    \"have := log_le_sub_one_of_pos hx\\nlinarith\",\n",
      "    \"nlinarith [Real.log_le_sub_one_of_pos hx]\",\n",
      "    \"have h1 : 0 \\u2264 (x - 1) ^ 2 := sq_nonneg (x - 1)\\nrw [pow_two] at h1\\nnlinarith [log_le_sub_one_of_pos hx]\",\n",
      "    \"linarith [log_le_sub_one_of_pos hx]\",\n",
      "    \"rw [ge_iff_le]\\nexact log_le_sub_one_of_pos hx\",\n",
      "    \"rw [ge_iff_le]\\nnlinarith [log_le_sub_one_of_pos hx]\",\n",
      "    \"linarith only [log_le_sub_one_of_pos hx]\",\n",
      "    \"have h1 : 0 \\u2264 (x - 1) ^ 2 := sq_nonneg (x - 1)\\nnlinarith [Real.log_le_sub_one_of_pos hx]\",\n",
      "    \"nlinarith [Real.log_le_sub_one_of_pos (by positivity : 0 < x)]\"\n",
      "  ]\n",
      "}\n"
     ]
    }
   ],
   "source": [
    "print(json.dumps(dataset[0], indent=2))\n",
    "print(json.dumps(proof_problems[1], indent=2))"
   ]
  },
  {
   "cell_type": "code",
   "execution_count": null,
   "metadata": {},
   "outputs": [],
   "source": [
    "from datasets import load_dataset\n",
    "dataset = load_dataest(\"hoskinson-center/proofnet\")  # lean4 version of proofnet"
   ]
  },
  {
   "cell_type": "code",
   "execution_count": 1,
   "metadata": {},
   "outputs": [
    {
     "name": "stdout",
     "output_type": "stream",
     "text": [
      "Dataset({\n",
      "    features: ['problem', 'level', 'type', 'solution'],\n",
      "    num_rows: 7500\n",
      "})\n",
      "<class 'list'>\n",
      "{'problem': 'Let \\\\[f(x) = \\\\left\\\\{\\n\\\\begin{array}{cl} ax+3, &\\\\text{ if }x>2, \\\\\\\\\\nx-5 &\\\\text{ if } -2 \\\\le x \\\\le 2, \\\\\\\\\\n2x-b &\\\\text{ if } x <-2.\\n\\\\end{array}\\n\\\\right.\\\\]Find $a+b$ if the piecewise function is continuous (which means that its graph can be drawn without lifting your pencil from the paper).', 'level': 'Level 5', 'type': 'Algebra', 'solution': 'For the piecewise function to be continuous, the cases must \"meet\" at $2$ and $-2$. For example, $ax+3$ and $x-5$ must be equal when $x=2$. This implies $a(2)+3=2-5$, which we solve to get $2a=-6 \\\\Rightarrow a=-3$. Similarly, $x-5$ and $2x-b$ must be equal when $x=-2$. Substituting, we get $-2-5=2(-2)-b$, which implies $b=3$. So $a+b=-3+3=\\\\boxed{0}$.'}\n"
     ]
    }
   ],
   "source": [
    "# download MATH\n",
    "from datasets import load_dataset\n",
    "dataset = load_dataset(\"hendrycks/competition_math\")[\"train\"]\n",
    "print(dataset)\n",
    "print(type(list(dataset)))\n",
    "print(list(dataset)[0])"
   ]
  },
  {
   "cell_type": "code",
   "execution_count": 1,
   "metadata": {},
   "outputs": [
    {
     "name": "stdout",
     "output_type": "stream",
     "text": [
      "Found 7500 samples\n",
      "Extracted 1461 lemmas\n"
     ]
    }
   ],
   "source": [
    "from library import build_library_from_outputs\n",
    "output_path = \"outputs/qwen_MATH_lemma_extract.jsonl\"\n",
    "lemmas = build_library_from_outputs(output_path)"
   ]
  },
  {
   "cell_type": "code",
   "execution_count": 2,
   "metadata": {},
   "outputs": [],
   "source": [
    "from utils import dump_jsonl\n",
    "from dataclasses import asdict\n",
    "save_path = \"libraries/qwen_lemmas.jsonl\"\n",
    "dump_jsonl([asdict(lemma) for lemma in lemmas], save_path)"
   ]
  },
  {
   "cell_type": "code",
   "execution_count": 7,
   "metadata": {},
   "outputs": [
    {
     "name": "stdout",
     "output_type": "stream",
     "text": [
      "Found 1552 samples\n",
      "Found 6795 requests\n"
     ]
    }
   ],
   "source": [
    "# extract lemma requests\n",
    "from utils import dump_jsonl\n",
    "from processing import extract_relevant_lemmas_from_outputs\n",
    "outputs_path = \"outputs/test_lemma_descriptions.jsonl\"\n",
    "samples = extract_relevant_lemmas_from_outputs(outputs_path)\n",
    "samples = [s for s in samples if s[\"lemma_requests\"] is not None and len(s[\"extracted_lemma_requests\"]) > 0]\n",
    "dump_jsonl(samples, \"outputs/test_extracted_lemma_descriptions.jsonl\")"
   ]
  },
  {
   "cell_type": "code",
   "execution_count": 1,
   "metadata": {},
   "outputs": [
    {
     "name": "stderr",
     "output_type": "stream",
     "text": [
      "100%|██████████| 151/151 [01:02<00:00,  2.40it/s]\n"
     ]
    }
   ],
   "source": [
    "# pair samples by computing pairwise cosine similarities between \n",
    "from library import compute_batched_similarity\n",
    "from utils import load_jsonl\n",
    "import torch\n",
    "sources = load_jsonl(\"outputs/test_extracted_lemma_descriptions_embeddings.jsonl\")\n",
    "targets = load_jsonl(\"libraries/qwen_lemmas_embeddings.jsonl\")\n",
    "sources = torch.tensor([embedding for sample in sources for embedding in sample[\"embeddings\"]])\n",
    "targets = torch.tensor([sample[\"embedding\"][0] for sample in targets])\n",
    "sims_dict = compute_batched_similarity(sources, targets, batch_size=128)"
   ]
  },
  {
   "cell_type": "code",
   "execution_count": 4,
   "metadata": {},
   "outputs": [
    {
     "name": "stdout",
     "output_type": "stream",
     "text": [
      "6795\n"
     ]
    }
   ],
   "source": [
    "print(len(sims_list))"
   ]
  }
 ],
 "metadata": {
  "kernelspec": {
   "display_name": "Python 3",
   "language": "python",
   "name": "python3"
  },
  "language_info": {
   "codemirror_mode": {
    "name": "ipython",
    "version": 3
   },
   "file_extension": ".py",
   "mimetype": "text/x-python",
   "name": "python",
   "nbconvert_exporter": "python",
   "pygments_lexer": "ipython3",
   "version": "3.10.14"
  }
 },
 "nbformat": 4,
 "nbformat_minor": 2
}
