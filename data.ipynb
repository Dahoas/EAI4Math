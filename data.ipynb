{
 "cells": [
  {
   "cell_type": "code",
   "execution_count": 1,
   "metadata": {},
   "outputs": [
    {
     "name": "stdout",
     "output_type": "stream",
     "text": [
      "<class 'list'>\n",
      "140214\n",
      "dict_keys(['natural_language_statement', 'answer', 'tags', 'formal_statement', 'split', 'proof'])\n",
      "[]\n",
      "12823\n"
     ]
    }
   ],
   "source": [
    "import json\n",
    "\n",
    "dataset_path = \"data/lean_workbook.json\"\n",
    "with open(dataset_path, \"r\") as f:\n",
    "    dataset = json.load(f)\n",
    "print(type(dataset))\n",
    "print(len(dataset))\n",
    "print(dataset[0].keys())\n",
    "print(dataset[0][\"proof\"])\n",
    "proof_problems = [sample for sample in dataset if len(sample[\"proof\"]) > 0]\n",
    "print(len(proof_problems))"
   ]
  },
  {
   "cell_type": "code",
   "execution_count": 5,
   "metadata": {},
   "outputs": [
    {
     "name": "stdout",
     "output_type": "stream",
     "text": [
      "{\n",
      "  \"natural_language_statement\": \"Let $a,b,c$ be positive real numbers .Prove that $ \\\\frac{b+c}{\\\\sqrt{a^2 + 8bc}} + \\\\frac{c+a}{\\\\sqrt{b^2 + 8ca}} + \\\\frac{a+b}{\\\\sqrt{c^2 + 8ab}} \\\\geq 2. $\",\n",
      "  \"answer\": \"2\",\n",
      "  \"tags\": [\n",
      "    \"inequality\"\n",
      "  ],\n",
      "  \"formal_statement\": \"theorem lean_workbook_0 (a b c : \\u211d) (ha : 0 < a) (hb : 0 < b) (hc : 0 < c) : (b + c) / Real.sqrt (a ^ 2 + 8 * b * c) + (c + a) / Real.sqrt (b ^ 2 + 8 * c * a) + (a + b) / Real.sqrt (c ^ 2 + 8 * a * b) \\u2265 2  :=  by sorry\",\n",
      "  \"split\": \"lean_workbook\",\n",
      "  \"proof\": []\n",
      "}\n",
      "{\n",
      "  \"natural_language_statement\": \"Prove that $x-1 \\\\geq \\\\ln x$ for $x>0$.\",\n",
      "  \"answer\": \"\",\n",
      "  \"tags\": [\n",
      "    \"inequality\",\n",
      "    \"logarithm\",\n",
      "    \"calculus\"\n",
      "  ],\n",
      "  \"formal_statement\": \"theorem lean_workbook_26 (x : \\u211d) (hx : 0 < x) : x - 1 \\u2265 Real.log x  :=  by sorry\",\n",
      "  \"split\": \"lean_workbook\",\n",
      "  \"proof\": [\n",
      "    \"have h1 : 0 \\u2264 (x - 1)^2 := sq_nonneg (x - 1)\\nnlinarith [log_le_sub_one_of_pos hx]\",\n",
      "    \"nlinarith [log_le_sub_one_of_pos hx]\",\n",
      "    \"rw [ge_iff_le]\\nsimpa using log_le_sub_one_of_pos hx\",\n",
      "    \"have := log_le_sub_one_of_pos hx\\nlinarith [this]\",\n",
      "    \"nlinarith [Real.log_le_sub_one_of_pos (by linarith : 0 < x)]\",\n",
      "    \"nlinarith [log_le_sub_one_of_pos (by assumption : 0 < x)]\",\n",
      "    \"have := log_le_sub_one_of_pos hx\\nlinarith\",\n",
      "    \"nlinarith [Real.log_le_sub_one_of_pos hx]\",\n",
      "    \"have h1 : 0 \\u2264 (x - 1) ^ 2 := sq_nonneg (x - 1)\\nrw [pow_two] at h1\\nnlinarith [log_le_sub_one_of_pos hx]\",\n",
      "    \"linarith [log_le_sub_one_of_pos hx]\",\n",
      "    \"rw [ge_iff_le]\\nexact log_le_sub_one_of_pos hx\",\n",
      "    \"rw [ge_iff_le]\\nnlinarith [log_le_sub_one_of_pos hx]\",\n",
      "    \"linarith only [log_le_sub_one_of_pos hx]\",\n",
      "    \"have h1 : 0 \\u2264 (x - 1) ^ 2 := sq_nonneg (x - 1)\\nnlinarith [Real.log_le_sub_one_of_pos hx]\",\n",
      "    \"nlinarith [Real.log_le_sub_one_of_pos (by positivity : 0 < x)]\"\n",
      "  ]\n",
      "}\n"
     ]
    }
   ],
   "source": [
    "print(json.dumps(dataset[0], indent=2))\n",
    "print(json.dumps(proof_problems[1], indent=2))"
   ]
  },
  {
   "cell_type": "code",
   "execution_count": null,
   "metadata": {},
   "outputs": [],
   "source": [
    "from datasets import load_dataset\n",
    "dataset = load_dataest(\"hoskinson-center/proofnet\")  # lean4 version of proofnet"
   ]
  }
 ],
 "metadata": {
  "kernelspec": {
   "display_name": "Python 3",
   "language": "python",
   "name": "python3"
  },
  "language_info": {
   "codemirror_mode": {
    "name": "ipython",
    "version": 3
   },
   "file_extension": ".py",
   "mimetype": "text/x-python",
   "name": "python",
   "nbconvert_exporter": "python",
   "pygments_lexer": "ipython3",
   "version": "3.8.10"
  }
 },
 "nbformat": 4,
 "nbformat_minor": 2
}
